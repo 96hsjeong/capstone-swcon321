{
  "nbformat": 4,
  "nbformat_minor": 0,
  "metadata": {
    "colab": {
      "name": "Capstone-Final.ipynb",
      "provenance": [],
      "collapsed_sections": [
        "EOplMpkyHlf0",
        "GwlZra2vHwcn",
        "i5vT76myH3hh",
        "AF-HzYSjIE2n",
        "n3bQYjIoGAq2",
        "aL8EMjSx-iAG",
        "jL9_TtAeEGwJ",
        "DYl26GYGETeL",
        "jBnmbcNvEZI-",
        "bfIlpXVyEgkR",
        "ATFIE2CREpww",
        "TEkMUR8sFg90",
        "6w3TajdnC1rx"
      ],
      "machine_shape": "hm"
    },
    "kernelspec": {
      "name": "python3",
      "display_name": "Python 3"
    },
    "language_info": {
      "name": "python"
    },
    "accelerator": "GPU"
  },
  "cells": [
    {
      "cell_type": "markdown",
      "source": [
        "# Setting"
      ],
      "metadata": {
        "id": "EOplMpkyHlf0"
      }
    },
    {
      "cell_type": "markdown",
      "source": [
        "### Connect GoogleDrive"
      ],
      "metadata": {
        "id": "GwlZra2vHwcn"
      }
    },
    {
      "cell_type": "code",
      "execution_count": null,
      "metadata": {
        "id": "ATlqf4R_hTlC"
      },
      "outputs": [],
      "source": [
        "from google.colab import drive\n",
        "drive.mount('/content/drive')"
      ]
    },
    {
      "cell_type": "code",
      "source": [
        "%cd /content\n",
        "!mkdir result\n",
        "!cp -r /content/drive/MyDrive/capstone/. /content/."
      ],
      "metadata": {
        "colab": {
          "base_uri": "https://localhost:8080/"
        },
        "id": "KtqmpmeThg0M",
        "outputId": "d737ef6d-55a3-4c99-8a1e-ea11ba129c91"
      },
      "execution_count": null,
      "outputs": [
        {
          "output_type": "stream",
          "name": "stdout",
          "text": [
            "/content\n"
          ]
        }
      ]
    },
    {
      "cell_type": "markdown",
      "source": [
        "### Install Package"
      ],
      "metadata": {
        "id": "i5vT76myH3hh"
      }
    },
    {
      "cell_type": "code",
      "source": [
        "!pip3 install mtcnn filterpy lap"
      ],
      "metadata": {
        "colab": {
          "base_uri": "https://localhost:8080/"
        },
        "id": "YmRE-gSfzdab",
        "outputId": "6851af01-ae7c-4da3-822f-d2b36ee47942"
      },
      "execution_count": null,
      "outputs": [
        {
          "output_type": "stream",
          "name": "stdout",
          "text": [
            "Looking in indexes: https://pypi.org/simple, https://us-python.pkg.dev/colab-wheels/public/simple/\n",
            "Collecting mtcnn\n",
            "  Downloading mtcnn-0.1.1-py3-none-any.whl (2.3 MB)\n",
            "\u001b[K     |████████████████████████████████| 2.3 MB 4.1 MB/s \n",
            "\u001b[?25hCollecting filterpy\n",
            "  Downloading filterpy-1.4.5.zip (177 kB)\n",
            "\u001b[K     |████████████████████████████████| 177 kB 63.3 MB/s \n",
            "\u001b[?25hCollecting lap\n",
            "  Downloading lap-0.4.0.tar.gz (1.5 MB)\n",
            "\u001b[K     |████████████████████████████████| 1.5 MB 59.1 MB/s \n",
            "\u001b[?25hRequirement already satisfied: opencv-python>=4.1.0 in /usr/local/lib/python3.7/dist-packages (from mtcnn) (4.1.2.30)\n",
            "Requirement already satisfied: keras>=2.0.0 in /usr/local/lib/python3.7/dist-packages (from mtcnn) (2.8.0)\n",
            "Requirement already satisfied: numpy>=1.14.5 in /usr/local/lib/python3.7/dist-packages (from opencv-python>=4.1.0->mtcnn) (1.21.6)\n",
            "Requirement already satisfied: scipy in /usr/local/lib/python3.7/dist-packages (from filterpy) (1.4.1)\n",
            "Requirement already satisfied: matplotlib in /usr/local/lib/python3.7/dist-packages (from filterpy) (3.2.2)\n",
            "Requirement already satisfied: pyparsing!=2.0.4,!=2.1.2,!=2.1.6,>=2.0.1 in /usr/local/lib/python3.7/dist-packages (from matplotlib->filterpy) (3.0.9)\n",
            "Requirement already satisfied: python-dateutil>=2.1 in /usr/local/lib/python3.7/dist-packages (from matplotlib->filterpy) (2.8.2)\n",
            "Requirement already satisfied: cycler>=0.10 in /usr/local/lib/python3.7/dist-packages (from matplotlib->filterpy) (0.11.0)\n",
            "Requirement already satisfied: kiwisolver>=1.0.1 in /usr/local/lib/python3.7/dist-packages (from matplotlib->filterpy) (1.4.2)\n",
            "Requirement already satisfied: typing-extensions in /usr/local/lib/python3.7/dist-packages (from kiwisolver>=1.0.1->matplotlib->filterpy) (4.2.0)\n",
            "Requirement already satisfied: six>=1.5 in /usr/local/lib/python3.7/dist-packages (from python-dateutil>=2.1->matplotlib->filterpy) (1.15.0)\n",
            "Building wheels for collected packages: filterpy, lap\n",
            "  Building wheel for filterpy (setup.py) ... \u001b[?25l\u001b[?25hdone\n",
            "  Created wheel for filterpy: filename=filterpy-1.4.5-py3-none-any.whl size=110474 sha256=cc25e81b2435d1e022ec3bd8f24bb0c9bb3c50bc14124b70da06cc69b0cb1810\n",
            "  Stored in directory: /root/.cache/pip/wheels/ce/e0/ee/a2b3c5caab3418c1ccd8c4de573d4cbe13315d7e8b0a55fbc2\n",
            "  Building wheel for lap (setup.py) ... \u001b[?25l\u001b[?25hdone\n",
            "  Created wheel for lap: filename=lap-0.4.0-cp37-cp37m-linux_x86_64.whl size=1590226 sha256=8189c80adbbbfd73971abe46b59c347531d62659ad21a1b5d313a56ad97372f3\n",
            "  Stored in directory: /root/.cache/pip/wheels/b1/0b/e3/ef9daf1b5547b56389e42c80c3100f1e6479bf5fd00fd9d6ba\n",
            "Successfully built filterpy lap\n",
            "Installing collected packages: mtcnn, lap, filterpy\n",
            "Successfully installed filterpy-1.4.5 lap-0.4.0 mtcnn-0.1.1\n"
          ]
        }
      ]
    },
    {
      "cell_type": "markdown",
      "source": [
        "### Start"
      ],
      "metadata": {
        "id": "AF-HzYSjIE2n"
      }
    },
    {
      "cell_type": "code",
      "source": [
        "from os import listdir\n",
        "from os.path import isdir\n",
        "from PIL import Image\n",
        "from matplotlib import pyplot\n",
        "from mtcnn.mtcnn import MTCNN\n",
        "from numpy import load\n",
        "from numpy import expand_dims\n",
        "from numpy import asarray\n",
        "from numpy import savez_compressed\n",
        "from keras.models import load_model\n",
        "from sklearn.metrics import accuracy_score\n",
        "from sklearn.preprocessing import LabelEncoder\n",
        "from sklearn.preprocessing import Normalizer\n",
        "from sklearn.svm import SVC\n",
        "from random import choice\n",
        "import joblib\n",
        "import timeit\n",
        "import cv2\n",
        "from tqdm import tqdm\n",
        "from sort import *\n",
        "from google.colab.patches import cv2_imshow\n",
        "import math\n",
        "import matplotlib.pyplot as plt\n",
        "# from mtcnn import MTCNN\n",
        "\n",
        "\n",
        "\n",
        "def extract_face(filename, required_size=(160, 160)):\n",
        "  image = Image.open(filename)\n",
        "  image = image.convert('RGB')\n",
        "  pixels = asarray(image)\n",
        "  detector = MTCNN()\n",
        "  results = detector.detect_faces(pixels)\n",
        "  x1, y1, width, height = results[0]['box']\n",
        "  x1, y1 = abs(x1), abs(y1)\n",
        "  x2, y2 = x1 + width, y1 + height\n",
        "  face = pixels[y1:y2, x1:x2]\n",
        "  image = Image.fromarray(face)\n",
        "  image = image.resize(required_size)\n",
        "  face_array = asarray(image)\n",
        "  return face_array\n",
        "\n",
        "\n",
        "def load_faces(directory):\n",
        "  faces = []\n",
        "  for filename in listdir(directory):\n",
        "    if filename == '.DS_Store':\n",
        "      continue\n",
        "    path = directory + filename\n",
        "    face = extract_face(path)\n",
        "    faces.append(face)\n",
        "  return faces\n",
        "\n",
        "\n",
        "def load_dataset(directory):\n",
        "  X, y = [], []\n",
        "  for subdir in listdir(directory):\n",
        "    if subdir == '.DS_Store':\n",
        "      continue\n",
        "    path = directory + subdir + '/'\n",
        "    if not isdir(path):\n",
        "      continue\n",
        "    faces = load_faces(path)\n",
        "    labels = [subdir for _ in range(len(faces))]\n",
        "    X.extend(faces)\n",
        "    y.extend(labels)\n",
        "\n",
        "  return asarray(X), asarray(y)\n",
        "\n",
        "\n",
        "def get_embedding(model, face_pixels):\n",
        "\tface_pixels = face_pixels.astype('int32')\n",
        "\tmean, std = face_pixels.mean(), face_pixels.std()\n",
        "\tface_pixels = (face_pixels - mean) / std\n",
        "\tsamples = expand_dims(face_pixels, axis=0)\n",
        "\tyhat = model.predict(samples)\n",
        "\treturn yhat[0]\n",
        "\n",
        "\n",
        "def euclidean_distance(a, b):\n",
        "  x1, y1 = a\n",
        "  x2, y2 = b\n",
        "  return math.sqrt((x2 - x1) * (x2 - x1) + (y2 - y1) * (y2 - y1))\n",
        "\n",
        "\n",
        "def alignment_procedure(img, left_eye, right_eye):\n",
        "  left_eye_x, left_eye_y = left_eye\n",
        "  right_eye_x, right_eye_y = right_eye\n",
        "\n",
        "  if left_eye_y > right_eye_y: # 왼쪽으로 기울어진 경우\n",
        "    point_3rd = (right_eye_x, left_eye_y)\n",
        "    direction = -1 # 시계방향으로 회전\n",
        "  else: # 오른쪽으로 기울어진 경우\n",
        "    point_3rd = (left_eye_x, right_eye_y)\n",
        "    direction = 1 # 시계반대방향으로 회전\n",
        "\n",
        "  a = euclidean_distance(np.array(left_eye), np.array(point_3rd))\n",
        "  b = euclidean_distance(np.array(right_eye), np.array(point_3rd))\n",
        "  c = euclidean_distance(np.array(right_eye), np.array(left_eye))\n",
        "\n",
        "  if b != 0 and c != 0:\n",
        "    cos_a = (b*b + c*c - a*a)/(2*b*c)\n",
        "    angle = np.arccos(cos_a)\n",
        "    angle = (angle * 180) / math.pi\n",
        "\n",
        "    if direction == -1:\n",
        "      angle = 90 - angle\n",
        "\n",
        "    img = Image.fromarray(img)\n",
        "    img = np.array(img.rotate(direction * angle))\n",
        "\n",
        "  return img\n",
        "\n",
        "\n",
        "# def make_mosaic(img, x, y, w, h):\n",
        "#   face_region = img[y: y+h, x: x+w]\n",
        "#   face_region = cv2.resize(face_region, dsize=(0, 0), fx=0.05, fy=0.05, interpolation=cv2.INTER_AREA)\n",
        "#   face_region = cv2.resize(face_region, dsize=(w, h), interpolation=cv2.INTER_AREA)\n",
        "#   img[y: y+h, x: x+w] = face_region\n",
        "\n",
        "#   return img\n",
        "\n",
        "\n",
        "def mosaic(src, ratio=0.1):\n",
        "    small = cv2.resize(src, None, fx=ratio, fy=ratio, interpolation=cv2.INTER_NEAREST)\n",
        "    return cv2.resize(small, src.shape[:2][::-1], interpolation=cv2.INTER_NEAREST)\n",
        "\n",
        "\n",
        "def make_mosaic(src, x, y, width, height, ratio=0.05):\n",
        "    dst = src.copy()\n",
        "    dst[y:y + height, x:x + width] = mosaic(dst[y:y + height, x:x + width], ratio)\n",
        "    return dst"
      ],
      "metadata": {
        "id": "eBP4p5gxjakk"
      },
      "execution_count": null,
      "outputs": []
    },
    {
      "cell_type": "markdown",
      "source": [
        "# Face Dataset"
      ],
      "metadata": {
        "id": "n3bQYjIoGAq2"
      }
    },
    {
      "cell_type": "markdown",
      "source": [
        "### Save Dataset"
      ],
      "metadata": {
        "id": "aL8EMjSx-iAG"
      }
    },
    {
      "cell_type": "code",
      "source": [
        "# Save Dataset\n",
        "# trainX, trainy = load_dataset('/content/face_dataset/train/')\n",
        "# print(trainX.shape, trainy.shape)\n",
        "# testX, testy = load_dataset('/content/face_dataset/val/')\n",
        "# print(testX.shape, testy.shape)\n",
        "\n",
        "# savez_compressed('face_dataset.npz', trainX, trainy, testX, testy)"
      ],
      "metadata": {
        "id": "t_TJd1fIk3tn"
      },
      "execution_count": null,
      "outputs": []
    },
    {
      "cell_type": "code",
      "source": [
        "# 드라이브에 저장하기\n",
        "# !cp -r /content/face_dataset.npz /content/drive/MyDrive/capstone/."
      ],
      "metadata": {
        "id": "aV-U6PhH-0ej"
      },
      "execution_count": null,
      "outputs": []
    },
    {
      "cell_type": "markdown",
      "source": [
        "### Load Dataset"
      ],
      "metadata": {
        "id": "KeXLOZB4-ld-"
      }
    },
    {
      "cell_type": "code",
      "source": [
        "data = load('/content/face_dataset.npz')\n",
        "trainX, trainy, testX, testy = data['arr_0'], data['arr_1'], data['arr_2'], data['arr_3']\n",
        "print('불러오기: ', trainX.shape, trainy.shape, testX.shape, testy.shape)"
      ],
      "metadata": {
        "id": "gEC6FLPc-qZe",
        "colab": {
          "base_uri": "https://localhost:8080/"
        },
        "outputId": "67fbd70b-0093-4ef9-fbbc-abdb6ac6aa0d"
      },
      "execution_count": null,
      "outputs": [
        {
          "output_type": "stream",
          "name": "stdout",
          "text": [
            "불러오기:  (300, 160, 160, 3) (300,) (150, 160, 160, 3) (150,)\n"
          ]
        }
      ]
    },
    {
      "cell_type": "markdown",
      "source": [
        "# Face Embedding"
      ],
      "metadata": {
        "id": "3fh-_t_9_-yQ"
      }
    },
    {
      "cell_type": "markdown",
      "source": [
        "### Load Model"
      ],
      "metadata": {
        "id": "WW2LgeT6GZVz"
      }
    },
    {
      "cell_type": "code",
      "source": [
        "# facenet 모델 불러오기\n",
        "facenet = load_model('/content/facenet/model/facenet_keras.h5')"
      ],
      "metadata": {
        "colab": {
          "base_uri": "https://localhost:8080/"
        },
        "id": "o8nW5lt5Az0x",
        "outputId": "d6b69263-6681-4b8f-e564-fa0cbf86875b"
      },
      "execution_count": null,
      "outputs": [
        {
          "output_type": "stream",
          "name": "stdout",
          "text": [
            "WARNING:tensorflow:No training configuration found in the save file, so the model was *not* compiled. Compile it manually.\n"
          ]
        }
      ]
    },
    {
      "cell_type": "markdown",
      "source": [
        "### Save Embeddings"
      ],
      "metadata": {
        "id": "fxfJ5Y0pAkxt"
      }
    },
    {
      "cell_type": "code",
      "source": [
        "# newTrainX = list()\n",
        "# for face_pixels in trainX:\n",
        "# \tembedding = get_embedding(facenet, face_pixels)\n",
        "# \tnewTrainX.append(embedding)\n",
        "# newTrainX = asarray(newTrainX)\n",
        "# print(newTrainX.shape)\n",
        "\n",
        "# newTestX = list()\n",
        "# for face_pixels in testX:\n",
        "# \tembedding = get_embedding(facenet, face_pixels)\n",
        "# \tnewTestX.append(embedding)\n",
        "# newTestX = asarray(newTestX)\n",
        "# print(newTestX.shape)\n",
        "\n",
        "# savez_compressed('face_embeddings.npz', newTrainX, trainy, newTestX, testy)\n",
        "# !cp -r /content/face_embeddings.npz /content/drive/MyDrive/capstone/. # 드라이브에 복사하기"
      ],
      "metadata": {
        "id": "g6KqwpPGtdfP"
      },
      "execution_count": null,
      "outputs": []
    },
    {
      "cell_type": "markdown",
      "source": [
        "### Load Embeddings"
      ],
      "metadata": {
        "id": "ycRnYdDXAo-N"
      }
    },
    {
      "cell_type": "code",
      "source": [
        "data = load('/content/face_embeddings.npz')\n",
        "trainX, trainy, testX, testy = data['arr_0'], data['arr_1'], data['arr_2'], data['arr_3']\n",
        "print('데이터셋: 훈련 %d개, 테스트 %d개' % (trainX.shape[0], testX.shape[0]))"
      ],
      "metadata": {
        "colab": {
          "base_uri": "https://localhost:8080/"
        },
        "id": "U_4ByBifBEP6",
        "outputId": "23dff6b2-8662-408b-8a15-bb78ccf0a906"
      },
      "execution_count": null,
      "outputs": [
        {
          "output_type": "stream",
          "name": "stdout",
          "text": [
            "데이터셋: 훈련 300개, 테스트 150개\n"
          ]
        }
      ]
    },
    {
      "cell_type": "markdown",
      "source": [
        "# Face Classfication"
      ],
      "metadata": {
        "id": "jL9_TtAeEGwJ"
      }
    },
    {
      "cell_type": "markdown",
      "source": [
        "### Load Dataset"
      ],
      "metadata": {
        "id": "DYl26GYGETeL"
      }
    },
    {
      "cell_type": "code",
      "source": [
        "# Test 얼굴 데이터셋 불러오기\n",
        "data = load('/content/face_dataset.npz')\n",
        "testX_faces = data['arr_2']\n",
        "\n",
        "# 얼굴 임베딩 불러오기\n",
        "data = load('/content/face_embeddings.npz')\n",
        "trainX, trainy, testX, testy = data['arr_0'], data['arr_1'], data['arr_2'], data['arr_3']"
      ],
      "metadata": {
        "id": "ZM545P66EO_K"
      },
      "execution_count": null,
      "outputs": []
    },
    {
      "cell_type": "code",
      "source": [
        "# 입력 벡터 일반화\n",
        "in_encoder = Normalizer(norm='l2')\n",
        "trainX = in_encoder.transform(trainX)\n",
        "testX = in_encoder.transform(testX)\n",
        "\n",
        "# 목표 레이블 암호화\n",
        "out_encoder = LabelEncoder()\n",
        "out_encoder.fit(trainy)\n",
        "trainy = out_encoder.transform(trainy)\n",
        "testy = out_encoder.transform(testy)"
      ],
      "metadata": {
        "id": "AXFaAgRLEYX1"
      },
      "execution_count": null,
      "outputs": []
    },
    {
      "cell_type": "markdown",
      "source": [
        "### Train"
      ],
      "metadata": {
        "id": "jBnmbcNvEZI-"
      }
    },
    {
      "cell_type": "code",
      "source": [
        "# 모델 학습\n",
        "clf = SVC(kernel='linear', probability=True)\n",
        "clf.fit(trainX, trainy)"
      ],
      "metadata": {
        "id": "OqG_fgEOEcph"
      },
      "execution_count": null,
      "outputs": []
    },
    {
      "cell_type": "markdown",
      "source": [
        "### Save Model"
      ],
      "metadata": {
        "id": "bfIlpXVyEgkR"
      }
    },
    {
      "cell_type": "code",
      "source": [
        "# 모델 저장하기\n",
        "joblib.dump(\bclf, 'face_clf.pkl')\n",
        "# !cp -r /content/face_clf.pkl /content/drive/MyDrive/capstone/."
      ],
      "metadata": {
        "id": "59X1RrmBEi8d"
      },
      "execution_count": null,
      "outputs": []
    },
    {
      "cell_type": "markdown",
      "source": [
        "### Load Model"
      ],
      "metadata": {
        "id": "ATFIE2CREpww"
      }
    },
    {
      "cell_type": "code",
      "source": [
        "# 모델 불러오기\n",
        "clf = joblib.load('/content/face_clf.pkl')"
      ],
      "metadata": {
        "id": "-7cSnSd7EsxT"
      },
      "execution_count": null,
      "outputs": []
    },
    {
      "cell_type": "markdown",
      "source": [
        "### Test"
      ],
      "metadata": {
        "id": "TEkMUR8sFg90"
      }
    },
    {
      "cell_type": "code",
      "source": [
        "# 테스트셋 랜덤 얼굴\n",
        "selection = choice([i for i in range(testX.shape[0])])\n",
        "random_face_pixels = testX_faces[selection]\n",
        "random_face_pixels = testX_faces[selection]\n",
        "random_face_emb = testX[selection]\n",
        "random_face_class = testy[selection]\n",
        "random_face_name = out_encoder.inverse_transform([random_face_class])\n",
        "\n",
        "# 얼굴 예측\n",
        "samples = expand_dims(random_face_emb, axis=0)\n",
        "yhat_class = clf.predict(samples)\n",
        "yhat_prob = clf.predict_proba(samples)\n",
        "\n",
        "# 이름 얻기\n",
        "class_index = yhat_class[0]\n",
        "class_probability = yhat_prob[0,class_index] * 100\n",
        "predict_names = out_encoder.inverse_transform(yhat_class)\n",
        "print('예상: %s (%.3f)' % (predict_names[0], class_probability))\n",
        "print('추측: %s' % random_face_name[0])\n",
        "\n",
        "# 그리기\n",
        "pyplot.imshow(random_face_pixels)\n",
        "title = '%s (%.3f)' % (predict_names[0], class_probability)\n",
        "pyplot.title(title)\n",
        "pyplot.show()"
      ],
      "metadata": {
        "colab": {
          "base_uri": "https://localhost:8080/",
          "height": 317
        },
        "id": "Jag2uMFe0-bl",
        "outputId": "dd39595c-5f78-487d-c9c1-4480c26d5ba9"
      },
      "execution_count": null,
      "outputs": [
        {
          "output_type": "stream",
          "name": "stdout",
          "text": [
            "예상: donghyun (80.294)\n",
            "추측: donghyun\n"
          ]
        },
        {
          "output_type": "display_data",
          "data": {
            "text/plain": [
              "<Figure size 432x288 with 1 Axes>"
            ],
            "image/png": "[encoded data removed]"
          },
          "metadata": {
            "needs_background": "light"
          }
        }
      ]
    },
    {
      "cell_type": "markdown",
      "source": [
        "# Face Tracking"
      ],
      "metadata": {
        "id": "6w3TajdnC1rx"
      }
    },
    {
      "cell_type": "code",
      "source": [
        "# capture object\n",
        "PATH = \"/content/sample/\"\n",
        "SAVEPATH = \"/content/result/\"\n",
        "filename = \"video-sample\"\n",
        "\n",
        "cap = cv2.VideoCapture(PATH + filename + \".mp4\")\n",
        "\n",
        "if not cap.isOpened():\n",
        "  print(\"Cannot open video file\")\n",
        "  exit()\n",
        "\n",
        "width = cap.get(cv2.CAP_PROP_FRAME_WIDTH)\n",
        "height = cap.get(cv2.CAP_PROP_FRAME_HEIGHT)\n",
        "fps = cap.get(cv2.CAP_PROP_FPS)\n",
        "frame_cnt = cap.get(cv2.CAP_PROP_FRAME_COUNT)\n",
        "\n",
        "print(f\"width {width}, height {height}, fps {fps}\")\n",
        "\n",
        "fourcc = cv2.VideoWriter_fourcc(*'XVID')\n",
        "\n",
        "out = cv2.VideoWriter(SAVEPATH + filename + \".mp4\", fourcc, fps, (int(width), int(height)))\n",
        "\n",
        "face_detector = MTCNN()\n",
        "face_tracker = Sort(max_age=50)\n",
        "\n",
        "# 출연자 목록\n",
        "performer = ['jaesuk', 'seho']\n",
        "\n",
        "ids = set()\n",
        "known = set()\n",
        "unknown = set()\n",
        "\n",
        "with tqdm(total=frame_cnt, desc='모자이크 처리 중') as pbar:\n",
        "  while True:\n",
        "    start_t = timeit.default_timer()\n",
        "    ret, f = cap.read()\n",
        "\n",
        "    if f is None:\n",
        "        break\n",
        "\n",
        "    frame = f.copy()\n",
        "\n",
        "    frame = cv2.cvtColor(frame, cv2.COLOR_BGR2RGB)\n",
        "\n",
        "    # face detection\n",
        "    faces = face_detector.detect_faces(frame)\n",
        "    box = []\n",
        "\n",
        "    for face in faces:\n",
        "        score = face[\"confidence\"]\n",
        "        if score > 0.9:\n",
        "            x, y, w, h = face[\"box\"]\n",
        "            box.append([x, y, x + w, y + h, face[\"confidence\"], face[\"keypoints\"]]) # 수정\n",
        "\n",
        "    dets = np.array(box)\n",
        "\n",
        "    # 트래킹\n",
        "    predict = face_tracker.update(dets)\n",
        "\n",
        "    for pre in predict:\n",
        "      x1, y1, x2, y2, keypoints, id = int(pre[0]), int(pre[1]), int(pre[2]), int(pre[3]), pre[4], int(pre[5]) # 수정\n",
        "      x, y, w, h = x1, y1, x2 - x1, y2 - y1\n",
        "      try:\n",
        "        if id not in ids:\n",
        "          ids.add(id)\n",
        "\n",
        "          face = frame[y1:y2, x1: x2]\n",
        "\n",
        "          # 얼굴 정렬\n",
        "          left_eye = keypoints[\"left_eye\"]\n",
        "          right_eye = keypoints[\"right_eye\"]\n",
        "\n",
        "          left_eye_x, left_eye_y = left_eye\n",
        "          right_eye_x, right_eye_y = right_eye\n",
        "\n",
        "          if left_eye_y > right_eye_y: # 왼쪽으로 기울어진 경우\n",
        "              point_3rd = (right_eye_x, left_eye_y)\n",
        "              direction = -1 # 시계방향으로 회전\n",
        "          else: # 오른쪽으로 기울어진 경우\n",
        "              point_3rd = (left_eye_x, right_eye_y)\n",
        "              direction = 1 # 시계반대방향으로 회전\n",
        "\n",
        "          a = euclidean_distance(np.array(left_eye), np.array(point_3rd))\n",
        "          b = euclidean_distance(np.array(right_eye), np.array(point_3rd))\n",
        "          c = euclidean_distance(np.array(right_eye), np.array(left_eye))\n",
        "\n",
        "          if b != 0 and c != 0:\n",
        "              cos_a = (b*b + c*c - a*a)/(2*b*c)\n",
        "              angle = np.arccos(cos_a)\n",
        "              angle = (angle * 180) / math.pi\n",
        "\n",
        "              if direction == -1:\n",
        "                  angle = 90 - angle\n",
        "              \n",
        "              face = Image.fromarray(face)\n",
        "              face = np.array(face.rotate(direction * angle))\n",
        "\n",
        "          # 얼굴 임베딩\n",
        "          image = Image.fromarray(face)\n",
        "          image = image.resize((160, 160))\n",
        "          face_pixel = asarray(image)\n",
        "\n",
        "          face_embedding = get_embedding(facenet, face_pixel)\n",
        "\n",
        "          # 얼굴 예측\n",
        "          samples = expand_dims(face_embedding, axis=0)\n",
        "          pred_class = clf.predict(samples)\n",
        "          pred_prob = clf.predict_proba(samples)\n",
        "\n",
        "          # 이름 얻기\n",
        "          class_index = pred_class[0]\n",
        "          class_probability = pred_prob[0, class_index] * 100\n",
        "          predict_names = out_encoder.inverse_transform(pred_class)\n",
        "\n",
        "          # 얼굴 분류\n",
        "          if class_probability < 70 or predict_names[0] not in performer:  # unknown\n",
        "            unknown.add(id)\n",
        "            frame = make_mosaic(frame, x, y, w, h)\n",
        "          else:\n",
        "            known.add(id)\n",
        "\n",
        "        else:\n",
        "          if id in unknown:\n",
        "            frame = make_mosaic(frame, x, y, w, h)\n",
        "\n",
        "      except Exception as ex:\n",
        "        print(f\"Error: {ex}\")\n",
        "        pass\n",
        "    \n",
        "\n",
        "      cv2.putText(frame, str(id), (x, y), cv2.FONT_HERSHEY_PLAIN, 1, (0, 255.0, 255.0), 2)\n",
        "      cv2.rectangle(frame, (x1, y1), (x2, y2), (255, 0, 0), 2)\n",
        "\n",
        "      ids.add(id)\n",
        "\n",
        "    frame = cv2.cvtColor(frame, cv2.COLOR_RGB2BGR)\n",
        "\n",
        "    out.write(frame)\n",
        "\n",
        "    terminate_t = timeit.default_timer()\n",
        "    FPS = int(1. / (terminate_t - start_t))\n",
        "    cv2.putText(frame, \"FPS:\" + str(FPS), (20, 30), cv2.FONT_HERSHEY_PLAIN, 2, (255.0, 255.0, 255.0), 2)\n",
        "\n",
        "    pbar.update(1)\n",
        "\n",
        "    key = cv2.waitKey(30)\n",
        "    if key == 27:\n",
        "        break\n",
        "\n",
        "cap.release()\n",
        "out.release()"
      ],
      "metadata": {
        "id": "PdA6sN91RR6l"
      },
      "execution_count": null,
      "outputs": []
    },
    {
      "cell_type": "code",
      "source": [
        "# 모자이크 처리결과 드라이브에 저장\n",
        "!cp -r /content/result/video-sample.mp4 /content/drive/MyDrive/capstone/."
      ],
      "metadata": {
        "id": "u0UhgT5gWI9f"
      },
      "execution_count": null,
      "outputs": []
    }
  ]
}